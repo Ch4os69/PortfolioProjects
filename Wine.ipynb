import pandas as pd
import numpy as np
from time import time
from IPython.display import display
import os

import matplotlib.pyplot as plt
import seaborn as sns

import vpython as vs

%matplotlib inline

# We have 2 csv files we're combining them:
#read the path
file_path = r"C:\Users\nakul\OneDrive\Desktop\Projects\Study_on_wine"
#list all the files from the directory
# created a object file_list to print both csv files
file_list = os.listdir(file_path)
file_list

# Creating a new empty dataframe known as df_a 
df_a = pd.DataFrame()

#Appending

for file in file_list:
    # ERROR OCCURED SAYING IT CAN'T FIND ONE OF THE FILE INSIDE THE PATH, SO USED FILE_PATH + '\\' + FILE TO SOLVE
    df_temp = pd.read_csv(file_path + '\\' + file)
    df_a = df_a.append(df_temp, ignore_index = True)
df_a

#CHECKING FOR NULL VALUES

df_a.isnull().any()

# information of the data base
df_a.info()
