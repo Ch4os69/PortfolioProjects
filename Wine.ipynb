import pandas as pd
import numpy as np
from time import time
from IPython.display import display
import os

import matplotlib.pyplot as plt
import seaborn as sns

import vpython as vs

%matplotlib inline


#CHECKING FOR NULL VALUES

df_a.isnull().any()

# information of the data base
df_a.info()
